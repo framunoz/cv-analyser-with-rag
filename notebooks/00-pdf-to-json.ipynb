{
 "cells": [
  {
   "cell_type": "code",
   "execution_count": null,
   "id": "2a5020d6",
   "metadata": {},
   "outputs": [],
   "source": [
    "from pathlib import Path\n",
    "\n",
    "# import typing as t\n",
    "import typing_extensions as typing\n",
    "from IPython.display import Markdown\n",
    "\n",
    "from kedro.config import OmegaConfigLoader\n",
    "from kedro.framework.project import settings\n",
    "from google import genai"
   ]
  },
  {
   "cell_type": "code",
   "execution_count": null,
   "id": "480c10c7-b6cc-4022-9fac-b70b58df96ec",
   "metadata": {},
   "outputs": [],
   "source": [
    "# configure credentials\n",
    "conf_path = str(Path(\"..\") / settings.CONF_SOURCE)\n",
    "conf_loader = OmegaConfigLoader(conf_source=conf_path)\n",
    "GOOGLE_API_KEY = conf_loader[\"credentials\"][\"google_api_credentials\"][\"key\"]"
   ]
  },
  {
   "cell_type": "markdown",
   "id": "03b4f709",
   "metadata": {},
   "source": [
    "### Purpose of this Notebook\n",
    "\n",
    "The purpose of this notebook is to convert a resume from PDF format to JSON format, adhering to the JSON schema proposed by this page: [JSON Resume Schema](https://jsonresume.org/schema)."
   ]
  },
  {
   "cell_type": "markdown",
   "id": "8df17a19",
   "metadata": {},
   "source": [
    "Load pdf Resume."
   ]
  },
  {
   "cell_type": "code",
   "execution_count": null,
   "id": "20c7de12",
   "metadata": {},
   "outputs": [],
   "source": [
    "pdf_cv: str = catalog.load(\"pdf_resume\")  # noqa: F821\n",
    "assert isinstance(pdf_cv, str), \"pdf_cv is not a string\"\n",
    "\n",
    "Markdown(pdf_cv)"
   ]
  },
  {
   "cell_type": "markdown",
   "id": "5abea9e0",
   "metadata": {},
   "source": [
    "Load Gemini Client."
   ]
  },
  {
   "cell_type": "code",
   "execution_count": null,
   "id": "828c69b1-6cde-4c60-aca1-b1a4b8249327",
   "metadata": {},
   "outputs": [],
   "source": [
    "client = genai.Client(api_key=GOOGLE_API_KEY)"
   ]
  },
  {
   "cell_type": "markdown",
   "id": "c8a44009",
   "metadata": {},
   "source": [
    "Define the response schema for the resume, based on the JSON Resume Schema available at [https://jsonresume.org/schema](https://jsonresume.org/schema)."
   ]
  },
  {
   "cell_type": "code",
   "execution_count": null,
   "id": "fc46fca4",
   "metadata": {},
   "outputs": [],
   "source": [
    "# Define TypedDicts for each section of the resume\n",
    "class Location(typing.TypedDict, total=False):\n",
    "    address: str\n",
    "    postalCode: str\n",
    "    city: str\n",
    "    countryCode: str\n",
    "    region: str\n",
    "\n",
    "\n",
    "class Profile(typing.TypedDict, total=False):\n",
    "    network: str\n",
    "    username: str\n",
    "    url: str\n",
    "\n",
    "\n",
    "class Basics(typing.TypedDict, total=False):\n",
    "    name: str\n",
    "    label: str\n",
    "    image: str\n",
    "    email: str\n",
    "    phone: str\n",
    "    url: str\n",
    "    summary: str\n",
    "    location: Location\n",
    "    profiles: list[Profile]\n",
    "\n",
    "\n",
    "class WorkItem(typing.TypedDict, total=False):\n",
    "    name: str\n",
    "    position: str\n",
    "    url: str\n",
    "    startDate: str\n",
    "    endDate: str\n",
    "    summary: str\n",
    "    highlights: list[str]\n",
    "\n",
    "\n",
    "class VolunteerItem(typing.TypedDict, total=False):\n",
    "    organization: str\n",
    "    position: str\n",
    "    url: str\n",
    "    startDate: str\n",
    "    endDate: str\n",
    "    summary: str\n",
    "    highlights: list[str]\n",
    "\n",
    "\n",
    "class EducationItem(typing.TypedDict, total=False):\n",
    "    institution: str\n",
    "    url: str\n",
    "    area: str\n",
    "    studyType: str\n",
    "    startDate: str\n",
    "    endDate: str\n",
    "    score: str\n",
    "    courses: list[str]\n",
    "\n",
    "\n",
    "class AwardItem(typing.TypedDict, total=False):\n",
    "    title: str\n",
    "    date: str\n",
    "    awarder: str\n",
    "    summary: str\n",
    "\n",
    "\n",
    "class CertificateItem(typing.TypedDict, total=False):\n",
    "    name: str\n",
    "    date: str\n",
    "    issuer: str\n",
    "    url: str\n",
    "\n",
    "\n",
    "class PublicationItem(typing.TypedDict, total=False):\n",
    "    name: str\n",
    "    publisher: str\n",
    "    releaseDate: str\n",
    "    url: str\n",
    "    summary: str\n",
    "\n",
    "\n",
    "class SkillItem(typing.TypedDict, total=False):\n",
    "    name: str\n",
    "    level: str\n",
    "    keywords: list[str]\n",
    "\n",
    "\n",
    "class LanguageItem(typing.TypedDict, total=False):\n",
    "    language: str\n",
    "    fluency: str\n",
    "\n",
    "\n",
    "class InterestItem(typing.TypedDict, total=False):\n",
    "    name: str\n",
    "    keywords: list[str]\n",
    "\n",
    "\n",
    "class ReferenceItem(typing.TypedDict, total=False):\n",
    "    name: str\n",
    "    reference: str\n",
    "\n",
    "\n",
    "class ProjectItem(typing.TypedDict, total=False):\n",
    "    name: str\n",
    "    startDate: str\n",
    "    endDate: str\n",
    "    description: str\n",
    "    highlights: list[str]\n",
    "    url: str\n",
    "\n",
    "\n",
    "# One TypedDict representing the full CV schema\n",
    "class Curriculum(typing.TypedDict, total=False):\n",
    "    basics: Basics\n",
    "    work: list[WorkItem]\n",
    "    volunteer: list[VolunteerItem]\n",
    "    education: list[EducationItem]\n",
    "    awards: list[AwardItem]\n",
    "    certificates: list[CertificateItem]\n",
    "    publications: list[PublicationItem]\n",
    "    skills: list[SkillItem]\n",
    "    languages: list[LanguageItem]\n",
    "    interests: list[InterestItem]\n",
    "    references: list[ReferenceItem]\n",
    "    projects: list[ProjectItem]"
   ]
  },
  {
   "cell_type": "markdown",
   "id": "54920535",
   "metadata": {},
   "source": [
    "Use the LLM client to transform the extracted CV text into the structured JSON schema"
   ]
  },
  {
   "cell_type": "code",
   "execution_count": null,
   "id": "822cf955",
   "metadata": {},
   "outputs": [],
   "source": [
    "# First, create a system message to instruct the model\n",
    "system_instruction = (\n",
    "    \"Extract information from the provided CV text and format it according to the JSON\"\n",
    "    \" Resume schema. Return ONLY a valid JSON object without any markdown formatting,\"\n",
    "    \" explanations, or additional text.\"\n",
    ")\n",
    "\n",
    "# Create a structured prompt\n",
    "prompt_message = f\"\"\"\n",
    "Given a CV text, extract all relevant information into the JSON Resume schema.\n",
    "Fill in as many fields as possible based on the available information.\n",
    "If information for a field is not available, use empty strings, arrays, or null values as appropriate.\n",
    "\n",
    "CV Text:\n",
    "{pdf_cv[:500]}\n",
    "\"\"\"\n",
    "\n",
    "# Combine instructions into one prompt\n",
    "full_prompt = system_instruction + \"\\n\\n\" + prompt_message\n",
    "\n",
    "# Generate the structured CV\n",
    "response = client.models.generate_content(\n",
    "    model=\"gemini-2.0-flash\",\n",
    "    contents=full_prompt,\n",
    "    config={\n",
    "        \"temperature\": 0.1,\n",
    "        \"response_mime_type\": \"application/json\",\n",
    "        \"response_schema\": Curriculum,\n",
    "    },\n",
    ")\n",
    "\n",
    "# Print the resulting JSON-formatted CV\n",
    "response.text"
   ]
  },
  {
   "cell_type": "markdown",
   "id": "629b5f98",
   "metadata": {},
   "source": [
    "Save json"
   ]
  },
  {
   "cell_type": "code",
   "execution_count": null,
   "id": "847bacba",
   "metadata": {},
   "outputs": [],
   "source": [
    "import json\n",
    "\n",
    "# Convertir a diccionario\n",
    "json_dict = json.loads(response.text)\n",
    "\n",
    "catalog.save(\"json_resume_from_pdf\", json_dict)  # noqa: F821"
   ]
  }
 ],
 "metadata": {
  "kernelspec": {
   "display_name": "Kedro (cv_analyser_with_rag)",
   "language": "python",
   "name": "kedro_cv_analyser_with_rag"
  },
  "language_info": {
   "codemirror_mode": {
    "name": "ipython",
    "version": 3
   },
   "file_extension": ".py",
   "mimetype": "text/x-python",
   "name": "python",
   "nbconvert_exporter": "python",
   "pygments_lexer": "ipython3",
   "version": "3.12.10"
  }
 },
 "nbformat": 4,
 "nbformat_minor": 5
}
