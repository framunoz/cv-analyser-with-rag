{
 "cells": [
  {
   "cell_type": "code",
   "execution_count": null,
   "id": "2a5020d6",
   "metadata": {},
   "outputs": [],
   "source": [
    "from pathlib import Path\n",
    "\n",
    "# import typing as t\n",
    "from IPython.display import Markdown\n",
    "\n",
    "from kedro.config import OmegaConfigLoader\n",
    "from kedro.framework.project import settings\n",
    "from google import genai\n",
    "\n",
    "# from google.genai import types"
   ]
  },
  {
   "cell_type": "code",
   "execution_count": null,
   "id": "480c10c7-b6cc-4022-9fac-b70b58df96ec",
   "metadata": {},
   "outputs": [],
   "source": [
    "# configure credentials\n",
    "conf_path = str(Path(\"..\") / settings.CONF_SOURCE)\n",
    "conf_loader = OmegaConfigLoader(conf_source=conf_path)\n",
    "GOOGLE_API_KEY = conf_loader[\"credentials\"][\"google_api_credentials\"][\"key\"]"
   ]
  },
  {
   "cell_type": "markdown",
   "id": "03b4f709",
   "metadata": {},
   "source": [
    "### Purpose of this Notebook\n",
    "\n",
    "The purpose of this notebook is to convert a resume from PDF format to JSON format, adhering to the JSON schema proposed by this page: [JSON Resume Schema](https://jsonresume.org/schema)."
   ]
  },
  {
   "cell_type": "code",
   "execution_count": null,
   "id": "20c7de12",
   "metadata": {},
   "outputs": [],
   "source": [
    "pdf_cv: str = catalog.load(\"pdf_resume\")  # noqa: F821\n",
    "Markdown(pdf_cv)"
   ]
  },
  {
   "cell_type": "code",
   "execution_count": null,
   "id": "828c69b1-6cde-4c60-aca1-b1a4b8249327",
   "metadata": {},
   "outputs": [],
   "source": [
    "client = genai.Client(api_key=GOOGLE_API_KEY)"
   ]
  }
 ],
 "metadata": {
  "kernelspec": {
   "display_name": "Kedro (cv_analyser_with_rag)",
   "language": "python",
   "name": "kedro_cv_analyser_with_rag"
  },
  "language_info": {
   "codemirror_mode": {
    "name": "ipython",
    "version": 3
   },
   "file_extension": ".py",
   "mimetype": "text/x-python",
   "name": "python",
   "nbconvert_exporter": "python",
   "pygments_lexer": "ipython3",
   "version": "3.12.10"
  }
 },
 "nbformat": 4,
 "nbformat_minor": 5
}
